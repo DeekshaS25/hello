{
  "nbformat": 4,
  "nbformat_minor": 0,
  "metadata": {
    "colab": {
      "name": "Untitled0.ipynb",
      "provenance": [],
      "authorship_tag": "ABX9TyOa6z78RjOGo+41uYOyCGce",
      "include_colab_link": true
    },
    "kernelspec": {
      "name": "python3",
      "display_name": "Python 3"
    },
    "language_info": {
      "name": "python"
    }
  },
  "cells": [
    {
      "cell_type": "markdown",
      "metadata": {
        "id": "view-in-github",
        "colab_type": "text"
      },
      "source": [
        "<a href=\"https://colab.research.google.com/github/DeekshaS25/hello/blob/main/Untitled0.ipynb\" target=\"_parent\"><img src=\"https://colab.research.google.com/assets/colab-badge.svg\" alt=\"Open In Colab\"/></a>"
      ]
    },
    {
      "cell_type": "code",
      "execution_count": 1,
      "metadata": {
        "colab": {
          "base_uri": "https://localhost:8080/"
        },
        "id": "OCc6Uy2RGMoL",
        "outputId": "d05382ed-fbe6-4dc6-bc87-508f7577f7b8"
      },
      "outputs": [
        {
          "output_type": "stream",
          "name": "stdout",
          "text": [
            "Looking in indexes: https://pypi.org/simple, https://us-python.pkg.dev/colab-wheels/public/simple/\n",
            "Collecting gTTS\n",
            "  Downloading gTTS-2.2.4-py3-none-any.whl (26 kB)\n",
            "Requirement already satisfied: six in /usr/local/lib/python3.7/dist-packages (from gTTS) (1.15.0)\n",
            "Requirement already satisfied: requests in /usr/local/lib/python3.7/dist-packages (from gTTS) (2.23.0)\n",
            "Requirement already satisfied: click in /usr/local/lib/python3.7/dist-packages (from gTTS) (7.1.2)\n",
            "Requirement already satisfied: urllib3!=1.25.0,!=1.25.1,<1.26,>=1.21.1 in /usr/local/lib/python3.7/dist-packages (from requests->gTTS) (1.24.3)\n",
            "Requirement already satisfied: chardet<4,>=3.0.2 in /usr/local/lib/python3.7/dist-packages (from requests->gTTS) (3.0.4)\n",
            "Requirement already satisfied: idna<3,>=2.5 in /usr/local/lib/python3.7/dist-packages (from requests->gTTS) (2.10)\n",
            "Requirement already satisfied: certifi>=2017.4.17 in /usr/local/lib/python3.7/dist-packages (from requests->gTTS) (2022.6.15)\n",
            "Installing collected packages: gTTS\n",
            "Successfully installed gTTS-2.2.4\n"
          ]
        }
      ],
      "source": [
        "!pip install gTTS"
      ]
    },
    {
      "cell_type": "code",
      "source": [
        "from gtts import gTTS\n",
        "\n",
        "text_to_say = input()\n",
        "\n",
        "language = \"en\"\n",
        "\n",
        "gtts_object = gTTS(text = text_to_say,lang = language,slow = False)\n",
        "\n",
        "gtts_object.save(\"/content/gtts.wav\")"
      ],
      "metadata": {
        "colab": {
          "base_uri": "https://localhost:8080/"
        },
        "id": "ntIsqaolI2pV",
        "outputId": "91dec49c-6613-4831-c6db-c28861bc3376"
      },
      "execution_count": 14,
      "outputs": [
        {
          "name": "stdout",
          "output_type": "stream",
          "text": [
            "Pearl equals Deeksha\n"
          ]
        }
      ]
    },
    {
      "cell_type": "code",
      "source": [
        "from IPython.display import Audio\n",
        "\n",
        "Audio(\"/content/gtts.wav\")"
      ],
      "metadata": {
        "colab": {
          "base_uri": "https://localhost:8080/",
          "height": 75
        },
        "id": "QjcFq3HtJ8e9",
        "outputId": "4bba75d3-aa55-429c-b990-d1cbaac81947"
      },
      "execution_count": 15,
      "outputs": [
        {
          "output_type": "execute_result",
          "data": {
            "text/plain": [
              "<IPython.lib.display.Audio object>"
            ],
            "text/html": [
              "\n",
              "                <audio controls=\"controls\" >\n",
              "                    <source src=\"data:audio/x-wav;base64,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\" type=\"audio/x-wav\" />\n",
              "                    Your browser does not support the audio element.\n",
              "                </audio>\n",
              "              "
            ]
          },
          "metadata": {},
          "execution_count": 15
        }
      ]
    }
  ]
}